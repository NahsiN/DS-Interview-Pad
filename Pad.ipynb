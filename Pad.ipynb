{
 "cells": [
  {
   "cell_type": "markdown",
   "id": "b27ab838-432a-4dfc-ab65-9eb947a73f4c",
   "metadata": {},
   "source": [
    "# Interview Pad\n",
    "\n",
    "[![Launch this notebook using Binder](https://mybinder.org/badge_logo.svg)](https://mybinder.org/v2/gh/NahsiN/DS-Interview-Pad/HEAD?urlpath=%2Fdoc%2Ftree%2FPad.ipynb)"
   ]
  },
  {
   "cell_type": "markdown",
   "id": "4c01def6-f374-4e73-9df4-7e16931dd79b",
   "metadata": {},
   "source": [
    "Question: "
   ]
  },
  {
   "cell_type": "code",
   "execution_count": null,
   "id": "24254d01-67e7-4857-a6a0-5ac7fd820c81",
   "metadata": {},
   "outputs": [],
   "source": []
  }
 ],
 "metadata": {
  "kernelspec": {
   "display_name": "Python 3 (ipykernel)",
   "language": "python",
   "name": "python3"
  },
  "language_info": {
   "codemirror_mode": {
    "name": "ipython",
    "version": 3
   },
   "file_extension": ".py",
   "mimetype": "text/x-python",
   "name": "python",
   "nbconvert_exporter": "python",
   "pygments_lexer": "ipython3",
   "version": "3.10.12"
  }
 },
 "nbformat": 4,
 "nbformat_minor": 5
}
