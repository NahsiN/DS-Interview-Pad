{
 "cells": [
  {
   "cell_type": "markdown",
   "id": "b27ab838-432a-4dfc-ab65-9eb947a73f4c",
   "metadata": {},
   "source": [
    "# Interview Pad\n",
    "\n",
    "[![Launch this notebook using Binder](https://mybinder.org/badge_logo.svg)](https://mybinder.org/v2/gh/NahsiN/DS-Interview-Pad/HEAD?urlpath=%2Fdoc%2Ftree%2FPad.ipynb)"
   ]
  },
  {
   "cell_type": "code",
   "execution_count": null,
   "id": "08744edd-a8e7-4407-a1ca-b41f414f9f22",
   "metadata": {},
   "outputs": [],
   "source": []
  }
 ],
 "metadata": {
  "kernelspec": {
   "display_name": "Python 3 (ipykernel)",
   "language": "python",
   "name": "python3"
  },
  "language_info": {
   "codemirror_mode": {
    "name": "ipython",
    "version": 3
   },
   "file_extension": ".py",
   "mimetype": "text/x-python",
   "name": "python",
   "nbconvert_exporter": "python",
   "pygments_lexer": "ipython3",
   "version": "3.10.12"
  }
 },
 "nbformat": 4,
 "nbformat_minor": 5
}
